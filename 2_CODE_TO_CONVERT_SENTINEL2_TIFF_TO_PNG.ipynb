{
  "nbformat": 4,
  "nbformat_minor": 0,
  "metadata": {
    "colab": {
      "provenance": []
    },
    "kernelspec": {
      "name": "python3",
      "display_name": "Python 3"
    },
    "language_info": {
      "name": "python"
    }
  },
  "cells": [
    {
      "cell_type": "code",
      "source": [
        "#Notes for Lucy\n",
        "\n",
        "#The first code is a first look at sentinel 2 image and ....sentinel1?\n",
        "#3rd code?\n",
        "#Create in GITHUB a read me file... (include comentaries about the class and the importance of this code for the study)"
      ],
      "metadata": {
        "id": "dF886xk8uwAc"
      },
      "execution_count": null,
      "outputs": []
    },
    {
      "cell_type": "code",
      "source": [
        "# @title INSTALL LIBRARIES (run this if is your first time running)\n",
        "!pip install rasterio numpy pillow matplotlib -q"
      ],
      "metadata": {
        "cellView": "form",
        "id": "uGbAB4jnrYWv"
      },
      "execution_count": null,
      "outputs": []
    },
    {
      "cell_type": "code",
      "source": [
        "# @title RUN LIBRARIES AND MOUNTAIN YOUR GOOGLE DRIVE\n",
        "\n",
        "import os, glob, numpy as np, rasterio\n",
        "from PIL import Image\n",
        "import matplotlib.pyplot as plt\n",
        "from google.colab import drive\n",
        "drive.mount('/content/drive')"
      ],
      "metadata": {
        "cellView": "form",
        "id": "8z7jQk4TrzF-"
      },
      "execution_count": null,
      "outputs": []
    },
    {
      "cell_type": "code",
      "source": [
        "# @title FUNCTIONS\n",
        "\n",
        "class SentinelToPNGConverter:\n",
        "    \"\"\"\n",
        "    A class to convert Sentinel-2 GeoTIFF images to enhanced RGB PNG images.\n",
        "    Applies normalization, contrast, brightness, and gamma corrections.\n",
        "    \"\"\"\n",
        "    def __init__(self, input_dir, output_dir, gamma=1.2, brightness=1.1, contrast=1.3):\n",
        "        \"\"\"\n",
        "        Initialize the converter with input/output directories and enhancement parameters.\n",
        "\n",
        "        Parameters:\n",
        "        - input_dir: Directory containing input GeoTIFF images.\n",
        "        - output_dir: Directory to save the output PNG images.\n",
        "        - gamma: Gamma correction factor.\n",
        "        - brightness: Brightness adjustment factor.\n",
        "        - contrast: Contrast adjustment factor.\n",
        "        \"\"\"\n",
        "        self.input_dir = input_dir\n",
        "        self.output_dir = output_dir\n",
        "        self.gamma = gamma\n",
        "        self.brightness = brightness\n",
        "        self.contrast = contrast\n",
        "        os.makedirs(self.output_dir, exist_ok=True)\n",
        "\n",
        "    def stretch(self, arr):\n",
        "        \"\"\"\n",
        "        Normalize the pixel values to the range [0, 1] using fixed min and max values.\n",
        "        This is a linear stretch assuming reflectance values from 0.0 to 0.02.\n",
        "        \"\"\"\n",
        "        return np.clip((arr - 0.0) / (0.02 - 0.0), 0, 1)\n",
        "\n",
        "    def get_band_indices(self, descriptions):\n",
        "        \"\"\"\n",
        "        Get the indices for bands B4 (Red), B3 (Green), and B2 (Blue).\n",
        "        If band names are not found, fallback to default band positions 1, 2, 3.\n",
        "\n",
        "        Parameters:\n",
        "        - descriptions: List of band descriptions from the TIFF metadata.\n",
        "\n",
        "        Returns:\n",
        "        - Tuple of indices (B4, B3, B2)\n",
        "        \"\"\"\n",
        "        desc = [d.upper() if d else '' for d in descriptions]\n",
        "        idx_B4 = desc.index('B4') + 1 if 'B4' in desc else 1\n",
        "        idx_B3 = desc.index('B3') + 1 if 'B3' in desc else 2\n",
        "        idx_B2 = desc.index('B2') + 1 if 'B2' in desc else 3\n",
        "        return idx_B4, idx_B3, idx_B2\n",
        "\n",
        "    def process_image(self, tif_path):\n",
        "        \"\"\"\n",
        "        Process a single GeoTIFF file and save the enhanced RGB image as PNG.\n",
        "\n",
        "        Steps:\n",
        "        - Read bands B4, B3, B2\n",
        "        - Normalize and stack as RGB\n",
        "        - Apply brightness, contrast, and gamma adjustments\n",
        "        - Save as PNG\n",
        "        \"\"\"\n",
        "        png_name = os.path.splitext(os.path.basename(tif_path))[0] + '.png'\n",
        "        out_path = os.path.join(self.output_dir, png_name)\n",
        "\n",
        "        with rasterio.open(tif_path) as src:\n",
        "            idx_B4, idx_B3, idx_B2 = self.get_band_indices(src.descriptions)\n",
        "\n",
        "            rgb = np.dstack([\n",
        "                self.stretch(src.read(idx_B4).astype(np.float32)),\n",
        "                self.stretch(src.read(idx_B3).astype(np.float32)),\n",
        "                self.stretch(src.read(idx_B2).astype(np.float32))\n",
        "            ])\n",
        "\n",
        "        # Apply contrast, brightness, and gamma corrections\n",
        "        rgb = self.contrast * (rgb - 0.5) + 0.5\n",
        "        rgb *= self.brightness\n",
        "        rgb = np.power(np.clip(rgb, 0, 1), self.gamma)\n",
        "\n",
        "        # Save the result as an 8-bit RGB PNG image\n",
        "        Image.fromarray((rgb * 255).astype(np.uint8), 'RGB').save(out_path)\n",
        "\n",
        "    def convert_all(self):\n",
        "        \"\"\"\n",
        "        Convert all GeoTIFF files in the input directory to enhanced RGB PNG images.\n",
        "        \"\"\"\n",
        "        tifs = glob.glob(os.path.join(self.input_dir, '*.tif'))\n",
        "        for tif in tifs:\n",
        "            self.process_image(tif)\n",
        "        print(f'✅  Converted {len(tifs)} images to PNG RGB in:\\n   {self.output_dir}')"
      ],
      "metadata": {
        "cellView": "form",
        "id": "i_ESqY3GsAHY"
      },
      "execution_count": null,
      "outputs": []
    },
    {
      "cell_type": "code",
      "source": [
        "if __name__ == \"__main__\":\n",
        "    # Create the converter object and start the batch conversion\n",
        "    converter = SentinelToPNGConverter(\n",
        "        input_dir='/content/drive/MyDrive/GEE_Exports/SENTINEL', #changes according to your folders in drive\n",
        "        output_dir='/content/drive/MyDrive/GEE_Exports/PNG' #changes according to your folders in drive\n",
        "    )\n",
        "    converter.convert_all()"
      ],
      "metadata": {
        "id": "RrbserFVuZv3"
      },
      "execution_count": null,
      "outputs": []
    }
  ]
}