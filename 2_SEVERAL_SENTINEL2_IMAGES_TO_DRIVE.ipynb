{
  "nbformat": 4,
  "nbformat_minor": 0,
  "metadata": {
    "colab": {
      "provenance": []
    },
    "kernelspec": {
      "name": "python3",
      "display_name": "Python 3"
    },
    "language_info": {
      "name": "python"
    }
  },
  "cells": [
    {
      "cell_type": "code",
      "execution_count": 9,
      "metadata": {
        "id": "gPJKO6_30Fpz",
        "colab": {
          "base_uri": "https://localhost:8080/",
          "height": 17
        },
        "cellView": "form",
        "outputId": "17750500-767f-4ff2-81a6-3268acd53759"
      },
      "outputs": [
        {
          "output_type": "display_data",
          "data": {
            "text/plain": [
              "<IPython.core.display.HTML object>"
            ],
            "text/html": [
              "\n",
              "            <style>\n",
              "                .geemap-dark {\n",
              "                    --jp-widgets-color: white;\n",
              "                    --jp-widgets-label-color: white;\n",
              "                    --jp-ui-font-color1: white;\n",
              "                    --jp-layout-color2: #454545;\n",
              "                    background-color: #383838;\n",
              "                }\n",
              "\n",
              "                .geemap-dark .jupyter-button {\n",
              "                    --jp-layout-color3: #383838;\n",
              "                }\n",
              "\n",
              "                .geemap-colab {\n",
              "                    background-color: var(--colab-primary-surface-color, white);\n",
              "                }\n",
              "\n",
              "                .geemap-colab .jupyter-button {\n",
              "                    --jp-layout-color3: var(--colab-primary-surface-color, white);\n",
              "                }\n",
              "            </style>\n",
              "            "
            ]
          },
          "metadata": {}
        }
      ],
      "source": [
        "# @title RUN LIBRARIES\n",
        "import ee\n",
        "import geemap\n",
        "import calendar\n",
        "from datetime import datetime"
      ]
    },
    {
      "cell_type": "code",
      "source": [
        "# @title AUTHENTICATE GOOGLE EARTH ENGINE\n",
        "ee.Authenticate()\n",
        "ee.Initialize(project='ee-sharon')"
      ],
      "metadata": {
        "colab": {
          "base_uri": "https://localhost:8080/",
          "height": 17
        },
        "id": "nl9Q6k6w0Jj4",
        "outputId": "94e56808-3c2a-4062-d5d5-83a22faebe6e",
        "cellView": "form"
      },
      "execution_count": 10,
      "outputs": [
        {
          "output_type": "display_data",
          "data": {
            "text/plain": [
              "<IPython.core.display.HTML object>"
            ],
            "text/html": [
              "\n",
              "            <style>\n",
              "                .geemap-dark {\n",
              "                    --jp-widgets-color: white;\n",
              "                    --jp-widgets-label-color: white;\n",
              "                    --jp-ui-font-color1: white;\n",
              "                    --jp-layout-color2: #454545;\n",
              "                    background-color: #383838;\n",
              "                }\n",
              "\n",
              "                .geemap-dark .jupyter-button {\n",
              "                    --jp-layout-color3: #383838;\n",
              "                }\n",
              "\n",
              "                .geemap-colab {\n",
              "                    background-color: var(--colab-primary-surface-color, white);\n",
              "                }\n",
              "\n",
              "                .geemap-colab .jupyter-button {\n",
              "                    --jp-layout-color3: var(--colab-primary-surface-color, white);\n",
              "                }\n",
              "            </style>\n",
              "            "
            ]
          },
          "metadata": {}
        }
      ]
    },
    {
      "cell_type": "code",
      "source": [
        "# @title FUNCTIONS\n",
        "class Sentinel2Exporter:\n",
        "    def __init__(self, coords_list, start_date, end_date, max_cloud=12):\n",
        "        self.coords_list = coords_list\n",
        "        self.start_date = start_date\n",
        "        self.end_date = end_date\n",
        "        self.max_cloud = max_cloud\n",
        "        self.month_names = [\n",
        "            'Enero','Febrero','Marzo','Abril','Mayo','Junio',\n",
        "            'Julio','Agosto','Septiembre','Octubre','Noviembre','Diciembre'\n",
        "        ]\n",
        "        self.roi_fc = self._crear_feature_collection()\n",
        "        self.months = self._generar_rangos_mensuales()\n",
        "\n",
        "    def _crear_feature_collection(self):\n",
        "        features = [\n",
        "            ee.Feature(ee.Geometry.Polygon(coords), {'id': i + 1})\n",
        "            for i, coords in enumerate(self.coords_list)\n",
        "        ]\n",
        "        return ee.FeatureCollection(features)\n",
        "\n",
        "    def _generar_rangos_mensuales(self):\n",
        "        months = []\n",
        "        current = datetime.strptime(self.start_date, '%Y-%m-%d')\n",
        "        end     = datetime.strptime(self.end_date, '%Y-%m-%d')\n",
        "        while current <= end:\n",
        "            y, m = current.year, current.month\n",
        "            first_day = datetime(y, m, 1)\n",
        "            last_day  = datetime(y, m, calendar.monthrange(y, m)[1])\n",
        "            if last_day > end:\n",
        "                last_day = end\n",
        "            months.append({\n",
        "                'nombre': self.month_names[m-1],\n",
        "                'inicio': first_day.strftime('%Y-%m-%d'),\n",
        "                'fin':    last_day.strftime('%Y-%m-%d'),\n",
        "                'anio':   y\n",
        "            })\n",
        "            # avanzar al mes siguiente\n",
        "            current = datetime(y + int(m == 12), (m % 12) + 1, 1)\n",
        "        return months\n",
        "\n",
        "    def _escalar_bandas(self, image):\n",
        "        return image.divide(10000)\n",
        "\n",
        "    def _cargar_mediana_mensual_s2(self, inicio, fin):\n",
        "        return (ee.ImageCollection('COPERNICUS/S2_SR_HARMONIZED')\n",
        "                .filterBounds(self.roi_fc)\n",
        "                .filterDate(inicio, fin)\n",
        "                .filter(ee.Filter.lt('CLOUDY_PIXEL_PERCENTAGE', self.max_cloud))\n",
        "                .select(['B4', 'B3', 'B2'])\n",
        "                .map(self._escalar_bandas)\n",
        "                .median())\n",
        "\n",
        "    def exportar_a_drive(self, folder='TRUCHAS'):\n",
        "        for m in self.months:\n",
        "            s2 = self._cargar_mediana_mensual_s2(m['inicio'], m['fin'])\n",
        "            features_info = self.roi_fc.getInfo()['features']\n",
        "            for f in features_info:\n",
        "                geom = ee.Geometry(f['geometry'])\n",
        "                fid  = f['properties']['id']\n",
        "                desc = f\"S2_{m['nombre']}_{m['anio']}_ID_{fid}\"\n",
        "\n",
        "                task = ee.batch.Export.image.toDrive(\n",
        "                    image       = s2.clip(geom),\n",
        "                    description = desc,\n",
        "                    folder      = folder,\n",
        "                    region      = geom.bounds().getInfo()['coordinates'],\n",
        "                    scale       = 10,\n",
        "                    crs         = 'EPSG:4326',\n",
        "                    fileFormat  = 'GeoTIFF',\n",
        "                    maxPixels   = 1e13\n",
        "                )\n",
        "                task.start()\n",
        "                print(f\"▶️ Iniciada exportación: {desc}\")"
      ],
      "metadata": {
        "colab": {
          "base_uri": "https://localhost:8080/",
          "height": 17
        },
        "cellView": "form",
        "id": "juiKtq5vnum6",
        "outputId": "757a219b-2054-4793-be5c-0a843b7b9888"
      },
      "execution_count": 11,
      "outputs": [
        {
          "output_type": "display_data",
          "data": {
            "text/plain": [
              "<IPython.core.display.HTML object>"
            ],
            "text/html": [
              "\n",
              "            <style>\n",
              "                .geemap-dark {\n",
              "                    --jp-widgets-color: white;\n",
              "                    --jp-widgets-label-color: white;\n",
              "                    --jp-ui-font-color1: white;\n",
              "                    --jp-layout-color2: #454545;\n",
              "                    background-color: #383838;\n",
              "                }\n",
              "\n",
              "                .geemap-dark .jupyter-button {\n",
              "                    --jp-layout-color3: #383838;\n",
              "                }\n",
              "\n",
              "                .geemap-colab {\n",
              "                    background-color: var(--colab-primary-surface-color, white);\n",
              "                }\n",
              "\n",
              "                .geemap-colab .jupyter-button {\n",
              "                    --jp-layout-color3: var(--colab-primary-surface-color, white);\n",
              "                }\n",
              "            </style>\n",
              "            "
            ]
          },
          "metadata": {}
        }
      ]
    },
    {
      "cell_type": "code",
      "source": [
        "# 1. GEOMETRÍAS RECTANGULARES EN UNA LISTA\n",
        "coords_list = [\n",
        "  [[[-69.13662367422387, -16.244924124906422],\n",
        "    [-69.11319189626977, -16.244924124906422],\n",
        "    [-69.11319189626977, -16.228525071734513],\n",
        "    [-69.13662367422387, -16.228525071734513]]],\n",
        "  [[[-69.1628878648977, -16.2576963094371],\n",
        "    [-69.13773947317407, -16.2576963094371],\n",
        "    [-69.13773947317407, -16.239238175858656],\n",
        "    [-69.1628878648977, -16.239238175858656]]],\n",
        "  [[[-69.2071765001516, -16.26684233145817],\n",
        "    [-69.18812208730981, -16.26684233145817],\n",
        "    [-69.18812208730981, -16.25242273383973],\n",
        "    [-69.2071765001516, -16.25242273383973]]],\n",
        "  [[[-69.2251151140432, -16.269149368839535],\n",
        "    [-69.20880728323266, -16.269149368839535],\n",
        "    [-69.20880728323266, -16.254647540803322],\n",
        "    [-69.2251151140432, -16.254647540803322]]],\n",
        "  [[[-69.24459868032739, -16.2693141561866],\n",
        "    [-69.2258875902395, -16.2693141561866],\n",
        "    [-69.2258875902395, -16.2537411410066],\n",
        "    [-69.24459868032739, -16.2537411410066]]],\n",
        "  [[[-69.27120619375512, -16.280354593297076],\n",
        "    [-69.25163679678246, -16.280354593297076],\n",
        "    [-69.25163679678246, -16.26395849661404],\n",
        "    [-69.27120619375512, -16.26395849661404]]],\n",
        "  [[[-69.31111746389672, -16.266595147273858],\n",
        "    [-69.27249365408227, -16.266595147273858],\n",
        "    [-69.27249365408227, -16.233304836403246],\n",
        "    [-69.31111746389672, -16.233304836403246]]],\n",
        "  [[[-69.34116837968982, -16.258111290799928],\n",
        "    [-69.3130159138695,  -16.258111290799928],\n",
        "    [-69.3130159138695,  -16.23866432078986],\n",
        "    [-69.34116837968982, -16.23866432078986]]],\n",
        "  [[[-69.43559377984296, -16.19188409838657],\n",
        "    [-69.39971655205976, -16.19188409838657],\n",
        "    [-69.39971655205976, -16.171276507969868],\n",
        "    [-69.43559377984296, -16.171276507969868]]],\n",
        "  [[[-69.39894407586347, -16.254765147422443],\n",
        "    [-69.34195249871503, -16.254765147422443],\n",
        "    [-69.34195249871503, -16.18702090096502],\n",
        "    [-69.39894407586347, -16.18702090096502]]]\n",
        "];"
      ],
      "metadata": {
        "colab": {
          "base_uri": "https://localhost:8080/",
          "height": 17
        },
        "id": "NrL8gjZCm1tD",
        "outputId": "04c3a86b-fb62-4ed8-d4dc-4ff9fd338021"
      },
      "execution_count": 12,
      "outputs": [
        {
          "output_type": "display_data",
          "data": {
            "text/plain": [
              "<IPython.core.display.HTML object>"
            ],
            "text/html": [
              "\n",
              "            <style>\n",
              "                .geemap-dark {\n",
              "                    --jp-widgets-color: white;\n",
              "                    --jp-widgets-label-color: white;\n",
              "                    --jp-ui-font-color1: white;\n",
              "                    --jp-layout-color2: #454545;\n",
              "                    background-color: #383838;\n",
              "                }\n",
              "\n",
              "                .geemap-dark .jupyter-button {\n",
              "                    --jp-layout-color3: #383838;\n",
              "                }\n",
              "\n",
              "                .geemap-colab {\n",
              "                    background-color: var(--colab-primary-surface-color, white);\n",
              "                }\n",
              "\n",
              "                .geemap-colab .jupyter-button {\n",
              "                    --jp-layout-color3: var(--colab-primary-surface-color, white);\n",
              "                }\n",
              "            </style>\n",
              "            "
            ]
          },
          "metadata": {}
        }
      ]
    },
    {
      "cell_type": "code",
      "source": [
        "exportador = Sentinel2Exporter(\n",
        "    coords_list=coords_list,\n",
        "    start_date='2021-06-01',\n",
        "    end_date='2021-09-30',\n",
        "    max_cloud=12\n",
        ")\n",
        "\n",
        "exportador.exportar_a_drive()"
      ],
      "metadata": {
        "colab": {
          "base_uri": "https://localhost:8080/",
          "height": 711
        },
        "id": "18dPtPUvn0LI",
        "outputId": "2dcb442f-1503-4189-af0e-4603688a77d1"
      },
      "execution_count": 13,
      "outputs": [
        {
          "output_type": "display_data",
          "data": {
            "text/plain": [
              "<IPython.core.display.HTML object>"
            ],
            "text/html": [
              "\n",
              "            <style>\n",
              "                .geemap-dark {\n",
              "                    --jp-widgets-color: white;\n",
              "                    --jp-widgets-label-color: white;\n",
              "                    --jp-ui-font-color1: white;\n",
              "                    --jp-layout-color2: #454545;\n",
              "                    background-color: #383838;\n",
              "                }\n",
              "\n",
              "                .geemap-dark .jupyter-button {\n",
              "                    --jp-layout-color3: #383838;\n",
              "                }\n",
              "\n",
              "                .geemap-colab {\n",
              "                    background-color: var(--colab-primary-surface-color, white);\n",
              "                }\n",
              "\n",
              "                .geemap-colab .jupyter-button {\n",
              "                    --jp-layout-color3: var(--colab-primary-surface-color, white);\n",
              "                }\n",
              "            </style>\n",
              "            "
            ]
          },
          "metadata": {}
        },
        {
          "output_type": "stream",
          "name": "stdout",
          "text": [
            "▶️ Iniciada exportación: S2_Junio_2021_ID_1\n",
            "▶️ Iniciada exportación: S2_Junio_2021_ID_2\n",
            "▶️ Iniciada exportación: S2_Junio_2021_ID_3\n",
            "▶️ Iniciada exportación: S2_Junio_2021_ID_4\n",
            "▶️ Iniciada exportación: S2_Junio_2021_ID_5\n",
            "▶️ Iniciada exportación: S2_Junio_2021_ID_6\n",
            "▶️ Iniciada exportación: S2_Junio_2021_ID_7\n",
            "▶️ Iniciada exportación: S2_Junio_2021_ID_8\n",
            "▶️ Iniciada exportación: S2_Junio_2021_ID_9\n",
            "▶️ Iniciada exportación: S2_Junio_2021_ID_10\n",
            "▶️ Iniciada exportación: S2_Julio_2021_ID_1\n",
            "▶️ Iniciada exportación: S2_Julio_2021_ID_2\n",
            "▶️ Iniciada exportación: S2_Julio_2021_ID_3\n",
            "▶️ Iniciada exportación: S2_Julio_2021_ID_4\n",
            "▶️ Iniciada exportación: S2_Julio_2021_ID_5\n",
            "▶️ Iniciada exportación: S2_Julio_2021_ID_6\n",
            "▶️ Iniciada exportación: S2_Julio_2021_ID_7\n",
            "▶️ Iniciada exportación: S2_Julio_2021_ID_8\n",
            "▶️ Iniciada exportación: S2_Julio_2021_ID_9\n",
            "▶️ Iniciada exportación: S2_Julio_2021_ID_10\n",
            "▶️ Iniciada exportación: S2_Agosto_2021_ID_1\n",
            "▶️ Iniciada exportación: S2_Agosto_2021_ID_2\n",
            "▶️ Iniciada exportación: S2_Agosto_2021_ID_3\n",
            "▶️ Iniciada exportación: S2_Agosto_2021_ID_4\n",
            "▶️ Iniciada exportación: S2_Agosto_2021_ID_5\n",
            "▶️ Iniciada exportación: S2_Agosto_2021_ID_6\n",
            "▶️ Iniciada exportación: S2_Agosto_2021_ID_7\n",
            "▶️ Iniciada exportación: S2_Agosto_2021_ID_8\n",
            "▶️ Iniciada exportación: S2_Agosto_2021_ID_9\n",
            "▶️ Iniciada exportación: S2_Agosto_2021_ID_10\n",
            "▶️ Iniciada exportación: S2_Septiembre_2021_ID_1\n",
            "▶️ Iniciada exportación: S2_Septiembre_2021_ID_2\n",
            "▶️ Iniciada exportación: S2_Septiembre_2021_ID_3\n",
            "▶️ Iniciada exportación: S2_Septiembre_2021_ID_4\n",
            "▶️ Iniciada exportación: S2_Septiembre_2021_ID_5\n",
            "▶️ Iniciada exportación: S2_Septiembre_2021_ID_6\n",
            "▶️ Iniciada exportación: S2_Septiembre_2021_ID_7\n",
            "▶️ Iniciada exportación: S2_Septiembre_2021_ID_8\n",
            "▶️ Iniciada exportación: S2_Septiembre_2021_ID_9\n",
            "▶️ Iniciada exportación: S2_Septiembre_2021_ID_10\n"
          ]
        }
      ]
    }
  ]
}